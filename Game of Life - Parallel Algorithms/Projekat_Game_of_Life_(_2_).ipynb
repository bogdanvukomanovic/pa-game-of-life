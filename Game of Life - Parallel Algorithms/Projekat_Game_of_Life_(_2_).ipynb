{
  "nbformat": 4,
  "nbformat_minor": 0,
  "metadata": {
    "colab": {
      "name": "Projekat_Game_of_Life_(_2_) github.ipynb",
      "provenance": [],
      "collapsed_sections": []
    },
    "kernelspec": {
      "name": "python3",
      "display_name": "Python 3"
    }
  },
  "cells": [
    {
      "cell_type": "markdown",
      "metadata": {
        "id": "0CPoEXN2jwgD"
      },
      "source": [
        "## Upotrebom niti koje simuliraju *po jednu ćeliju* i sinhronizacijom redovima za poruke  \n",
        "\n",
        "Svaka nit simulira rad jedne ćelije u sistemu. Stanje svake ćelije se čuva unutar ćelije (rad sistema se ne oslanja na deljenu matricu stanja). Ćelije podatke o svojem stanju razmenjuju putem reda za poruke. Za potrebe analize rada može se uvesti deljeni niz matrica stanja (i-ti element niza je matrica stanja i-te iteracije), u koji ćelije upisuju svoja stanja (ćelije ne mogu čitati iz ovog niza!).\n"
      ]
    },
    {
      "cell_type": "code",
      "metadata": {
        "id": "rto04WfbcYVW"
      },
      "source": [
        "# Imports:\n",
        "import random, threading, queue, time\n",
        "import numpy as np"
      ],
      "execution_count": 1,
      "outputs": []
    },
    {
      "cell_type": "code",
      "metadata": {
        "id": "8gJhKqewcgIr"
      },
      "source": [
        "# Global variables:\n",
        "\n",
        "# Safe to change values:\n",
        "n_epoch = 50                        # Number of epochs ( iterations ) Conway's game of life have.\n",
        "n = 30                              # Number of rows and columns ( matrix type: NxN ).\n",
        "\n",
        "# Not safe to change values:\n",
        "n_neighbours = 8                    # Number of cell neighbours ( TOP_LEFT, TOP, TOP_RIGHT, LEFT, RIGHT, BOT_LEFT, BOT, BOT_RIGHT ).\n",
        "\n",
        "# Global structs:\n",
        "cells = None\n",
        "steps = list()                      # List of matrixes trough epoches - list[i] is the appereance of the values of the every cell state in the i-th epoch.\n",
        "queues = list()\n",
        "write_mutex = threading.Lock()\n",
        "queue_mutex = threading.Lock()"
      ],
      "execution_count": 2,
      "outputs": []
    },
    {
      "cell_type": "code",
      "metadata": {
        "id": "FsqzrAHMd5x2"
      },
      "source": [
        "# Cell\n",
        "\n",
        "class Cell( threading.Thread ):\n",
        "    \n",
        "    def __init__( self, x, y ):\n",
        "        threading.Thread.__init__( self )\n",
        "\n",
        "        self.state = random.randint( 0, 1 )                                     # Generating random state for first epoch.\n",
        "        self.epoch = 0                                                          # Current epoch ( iteration ).\n",
        "\n",
        "        self.x = x                                                              # The x coordinate of cell in the matrix.\n",
        "        self.y = y                                                              # The y coordinate of cell in the matrix.\n",
        "        \n",
        "        self.neighbour_queue = queue.Queue()\n",
        "\n",
        "\n",
        "    def __str__( self ):\n",
        "           return f'[ { self.x } ][ { self.y } ] - { self.state }'\n",
        "\n",
        "\n",
        "    def notify_neighbours_queues( self ):\n",
        "\n",
        "        x = self.x\n",
        "        y = self.y  \n",
        "        state = self.state\n",
        "\n",
        "        cells[ ( x - 1 ) % n ][ ( y - 1 ) % n ].neighbour_queue.put( state )\n",
        "        cells[ ( x - 1 ) % n ][ y ].neighbour_queue.put( state )\n",
        "        cells[ ( x - 1 ) % n ][ ( y + 1 ) % n ].neighbour_queue.put( state )\n",
        "        cells[ x ][ ( y - 1 ) % n ].neighbour_queue.put( state )\n",
        "        cells[ x ][ ( y + 1 ) % n ].neighbour_queue.put( state )\n",
        "        cells[ ( x + 1 ) % n ][ ( y - 1 ) % n ].neighbour_queue.put( state )\n",
        "        cells[ ( x + 1 ) % n ][ y ].neighbour_queue.put( state )\n",
        "        cells[ ( x + 1 ) % n ][ ( y + 1 ) % n ].neighbour_queue.put( state )\n",
        "\n",
        "    def run( self ):\n",
        "        \n",
        "        global cells, steps, cells_left, is_saved, cell_queue\n",
        "\n",
        "        # Every thread has to loop n_epoch times.\n",
        "        for epoch in range( 0, n_epoch ):\n",
        "            \n",
        "            queue_mutex.acquire()\n",
        "\n",
        "            try:\n",
        "                queues[epoch].put( self )\n",
        "            except IndexError:\n",
        "                queues.append( queue.Queue() )\n",
        "                queues[epoch].put( self )\n",
        "\n",
        "            queue_mutex.release()\n",
        "            \n",
        "\n",
        "            self.notify_neighbours_queues()\n",
        "        \n",
        "            alive = 0\n",
        "\n",
        "            for _ in range ( 0, n_neighbours ):\n",
        "                try:\n",
        "                    alive += self.neighbour_queue.get()\n",
        "                except queue.Empty:\n",
        "                    pass\n",
        "\n",
        "            # Cell is alive. #\n",
        "            if self.state == 1:\n",
        "                if alive < 2 or alive > 3:\n",
        "                    self.state = 0\n",
        "            \n",
        "            # Cell is dead.\n",
        "            else:\n",
        "                if alive == 3:\n",
        "                    self.state = 1\n",
        "\n",
        "\n",
        "            write_mutex.acquire() \n",
        "\n",
        "            try:\n",
        "                steps[epoch]\n",
        "            except IndexError:\n",
        "                steps.append( np.array( [ [ cells[i][j].state for j in range( n ) ] for i in range( n ) ] ) )\n",
        "            \n",
        "            write_mutex.release()\n",
        "\n",
        "            queues[epoch].get()\n",
        "            queues[epoch].task_done()          # Used to support queue.Queue.join().\n",
        "            queues[epoch].join()\n",
        "\n",
        "            self.epoch = epoch     "
      ],
      "execution_count": 3,
      "outputs": []
    },
    {
      "cell_type": "code",
      "metadata": {
        "id": "hIU8liZ7j6bl"
      },
      "source": [
        "# Main\n",
        "\n",
        "def main():\n",
        "\n",
        "    global cells, steps, cells_left, x\n",
        "\n",
        "    # Generating cells with random state.\n",
        "    cells = [ [ Cell( i, j ) for j in range( n ) ] for i in range( n ) ]\n",
        "\n",
        "    steps = list()\n",
        "\n",
        "    # Generating initial step matrix with cell states.\n",
        "    steps.append( np.array( [ [ cells[i][j].state for j in range( n ) ] for i in range( n ) ] ) )\n",
        "    \n",
        "    for i in range( n ):\n",
        "        for j in range( n ):\n",
        "            cells[i][j].start()\n",
        "\n",
        "    for i in range( n ):\n",
        "        for j in range( n ):\n",
        "            cells[i][j].join()\n",
        "    \n",
        "if __name__ == \"__main__\":\n",
        "    main()"
      ],
      "execution_count": 4,
      "outputs": []
    },
    {
      "cell_type": "code",
      "metadata": {
        "id": "j8jQt9EVb3IP"
      },
      "source": [
        "from matplotlib.animation import FuncAnimation\n",
        "import matplotlib.pyplot as plt\n",
        "from IPython.display import HTML\n",
        "\n",
        "def animate( steps ):\n",
        "  '''\n",
        "  Animates the array of matrices - each matrix is a single state in simulation.\n",
        "  '''\n",
        "  \n",
        "  def init():\n",
        "    im.set_data( steps[0] )\n",
        "    return [ im ]\n",
        "  \n",
        "  \n",
        "  def animate( i ):\n",
        "    im.set_data( steps[i] )\n",
        "    return [ im ]\n",
        "\n",
        "\n",
        "  im = plt.matshow( steps[0], interpolation = 'None', animated = True );\n",
        "  \n",
        "  anim = FuncAnimation( im.get_figure(), animate, init_func = init,\n",
        "                  frames = len( steps ), interval = 1000, blit = True, repeat = False );\n",
        "                  \n",
        "  return anim\n",
        "\n",
        "anim = animate( steps );\n",
        "HTML( anim.to_html5_video() )"
      ],
      "execution_count": null,
      "outputs": []
    }
  ]
}