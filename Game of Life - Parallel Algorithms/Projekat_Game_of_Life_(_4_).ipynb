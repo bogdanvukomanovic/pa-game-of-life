{
  "nbformat": 4,
  "nbformat_minor": 0,
  "metadata": {
    "colab": {
      "name": "Projekat_Game_of_Life_(_4_) github.ipynb",
      "provenance": [],
      "collapsed_sections": []
    },
    "kernelspec": {
      "name": "python3",
      "display_name": "Python 3"
    }
  },
  "cells": [
    {
      "cell_type": "markdown",
      "metadata": {
        "id": "0CPoEXN2jwgD"
      },
      "source": [
        "### Upotrebom više procesa kroz *process pool*, generisanjem taskova na nivou skupa ćelija\n",
        "\n",
        "Matricu stanja podeliti na N delova (gde je N konfigurabilni parametar) i za svaki deo generisati *task* (poziv funkcije čijim parametrima se definiše koji deo matrice treba obraditi). Funkcija treba da vrati niz koordinata ćelija i njihove nove vrednosti, a matrica za sledeću iteraciju se može kreirati u glavnom programu. Trenutne vrednosti ćelija i suseda se mogu čitati iz deljene matrice."
      ]
    },
    {
      "cell_type": "code",
      "metadata": {
        "id": "rto04WfbcYVW"
      },
      "source": [
        "# Imports:\n",
        "import random, multiprocessing, time\n",
        "import numpy as np\n",
        "\n",
        "from math import sqrt\n",
        "from functools import partial"
      ],
      "execution_count": 1,
      "outputs": []
    },
    {
      "cell_type": "code",
      "metadata": {
        "id": "8gJhKqewcgIr"
      },
      "source": [
        "# Global variables:\n",
        "\n",
        "# Safe to change values:\n",
        "n_epoch = 50                        # Number of epochs ( iterations ) Conway's game of life have.\n",
        "n = 30                              # Number of rows and columns ( matrix type: NxN ).\n",
        "\n",
        "n_splits = 4                        # Number of submatrixes we want to spliting the original matrix - must be power of 2.\n",
        "\n",
        "# Not safe to change values:\n",
        "n_neighbours = 8                    # Number of cell neighbours ( TOP_LEFT, TOP, TOP_RIGHT, LEFT, RIGHT, BOT_LEFT, BOT, BOT_RIGHT ).\n",
        "\n",
        "manager = multiprocessing.Manager()\n",
        "steps = manager.list()\n",
        "\n",
        "box_len = int( n // sqrt( n_splits ) )\n",
        "box_coordinates = [ ( i, j, i + box_len, j + box_len ) for j in range( 0, n , box_len ) for i in range( 0, n, box_len ) ]\n",
        "\n",
        "print( box_coordinates )"
      ],
      "execution_count": null,
      "outputs": []
    },
    {
      "cell_type": "code",
      "metadata": {
        "id": "wpqXsyHpeEPb"
      },
      "source": [
        "def simulate( box_coordinates, epoch ):\n",
        "    \n",
        "    global steps\n",
        "    \n",
        "    x1, y1, x2, y2 = box_coordinates\n",
        "    \n",
        "    cell_info = list()\n",
        "\n",
        "    for x in range( x1, x2 ):\n",
        "        for y in range( y1, y2 ):\n",
        "\n",
        "            alive = 0\n",
        "            \n",
        "            alive += steps[epoch][ ( x - 1 ) % n ][ ( y - 1 ) % n ]         # TOP LEFT\n",
        "            alive += steps[epoch][ ( x - 1 ) % n ][ y ]                     # TOP\n",
        "            alive += steps[epoch][ ( x - 1 ) % n ][ ( y + 1 ) % n ]         # TOP RIGHT\n",
        "            alive += steps[epoch][ x ][ ( y - 1 ) % n ]                     # LEFT      \n",
        "            alive += steps[epoch][ x ][ ( y + 1 ) % n ]                     # RIGHT\n",
        "            alive += steps[epoch][ ( x + 1 ) % n ][ ( y - 1 ) % n ]         # BOT LEFT\n",
        "            alive += steps[epoch][ ( x + 1 ) % n ][ y ]                     # BOT\n",
        "            alive += steps[epoch][ ( x + 1 ) % n ][ ( y + 1 ) % n ]         # BOT_RIGHT\n",
        "\n",
        "            curr_cell_state = steps[epoch][x][y]\n",
        "\n",
        "            # Cell is alive.\n",
        "            if curr_cell_state == 1:\n",
        "                if alive < 2 or alive > 3:\n",
        "                    curr_cell_state = 0\n",
        "    \n",
        "            # Cell is dead.\n",
        "            else:\n",
        "                if alive == 3:\n",
        "                    curr_cell_state = 1\n",
        "\n",
        "            cell_info.append( ( x, y, curr_cell_state ) )\n",
        "\n",
        "    return cell_info"
      ],
      "execution_count": 4,
      "outputs": []
    },
    {
      "cell_type": "code",
      "metadata": {
        "id": "US9-RbLbiL65"
      },
      "source": [
        "# Main\n",
        "\n",
        "def main():\n",
        "\n",
        "    global steps\n",
        "\n",
        "    # Generating initial matrix with random state.\n",
        "    initial_state = np.array( [ [ random.randint( 0, 1 ) for j in range( n ) ] for i in range( n ) ] )\n",
        "    steps.append( initial_state )\n",
        "\n",
        "    pool = multiprocessing.Pool( multiprocessing.cpu_count() )\n",
        "    \n",
        "    for epoch in range( n_epoch ):\n",
        "\n",
        "        partial_simulate = partial( simulate, epoch = epoch )\n",
        "        \n",
        "        cell_info = pool.map( partial_simulate, box_coordinates )\n",
        "\n",
        "        new_step = np.ndarray( shape = ( n, n ), dtype = int )\n",
        "        \n",
        "        for cells in cell_info:\n",
        "            for cell in cells:\n",
        "                ( x, y, state ) = cell\n",
        "                new_step[x][y] = state\n",
        "          \n",
        "\n",
        "        steps.append( new_step )\n",
        "\n",
        "        # Progress bar.\n",
        "        bar = '#' * epoch + ' ' * ( n_epoch - epoch - 1 )\n",
        "        print( f'\\rProgress: [ { bar } ]', end = '' )\n",
        "\n",
        "\n",
        "    pool.terminate()\n",
        "\n",
        "if __name__ == \"__main__\":\n",
        "    main()"
      ],
      "execution_count": null,
      "outputs": []
    },
    {
      "cell_type": "code",
      "metadata": {
        "id": "j8jQt9EVb3IP"
      },
      "source": [
        "from matplotlib.animation import FuncAnimation\n",
        "import matplotlib.pyplot as plt\n",
        "from IPython.display import HTML\n",
        "\n",
        "def animate( steps ):\n",
        "  '''\n",
        "  Animates the array of matrices - each matrix is a single state in simulation.\n",
        "  '''\n",
        "  \n",
        "  def init():\n",
        "    im.set_data( steps[0] )\n",
        "    return [ im ]\n",
        "  \n",
        "  \n",
        "  def animate( i ):\n",
        "    im.set_data( steps[i] )\n",
        "    return [ im ]\n",
        "\n",
        "\n",
        "  im = plt.matshow( steps[0], interpolation = 'None', animated = True );\n",
        "  \n",
        "  anim = FuncAnimation( im.get_figure(), animate, init_func = init,\n",
        "                  frames = len( steps ), interval = 1000, blit = True, repeat = False );\n",
        "                  \n",
        "  return anim\n",
        "\n",
        "anim = animate( steps );\n",
        "HTML( anim.to_html5_video() )"
      ],
      "execution_count": null,
      "outputs": []
    }
  ]
}